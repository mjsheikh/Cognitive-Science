{
 "cells": [
  {
   "cell_type": "code",
   "execution_count": 1,
   "metadata": {},
   "outputs": [],
   "source": [
    "import cv2\n",
    "import numpy as np\n",
    "import matplotlib.pyplot as plt\n",
    "from skimage.draw import (polygon, circle)\n",
    "from scipy import ndimage as ndi\n",
    "from skimage import color\n",
    "from skimage import io\n",
    "import time"
   ]
  },
  {
   "cell_type": "code",
   "execution_count": 2,
   "metadata": {},
   "outputs": [],
   "source": [
    "def dsquare(r0,c0):\n",
    "    width=30/2\n",
    "    height=30/2\n",
    "    rr, cc = [r0-15, r0 -15 , r0 + 15, r0+15], [c0-15, c0+15, c0 +15, c0 -15]\n",
    "    return rr,cc\n",
    "def dtriangle(r,c):\n",
    "    a=30\n",
    "    rr,cc=[r+a/3.3,r+a/3.3,r-a/2],[c-a/2,c+a/2,c]\n",
    "    return rr,cc\n",
    "def dbox(r0,c0):\n",
    "    width=60\n",
    "    height=60\n",
    "    rr, cc = [r0-30, r0 -30 , r0 + 30, r0+30], [c0-30, c0+30, c0 +30, c0 -30]\n",
    "    return rr,cc"
   ]
  },
  {
   "cell_type": "markdown",
   "metadata": {},
   "source": [
    "# 1) Complex cell using Gabor filter bank"
   ]
  },
  {
   "cell_type": "code",
   "execution_count": 3,
   "metadata": {},
   "outputs": [],
   "source": [
    "def complexcell(box,plot=False):\n",
    "    if plot:\n",
    "        fig,ax=plt.subplots(2,2,figsize=[10,5])\n",
    "        ori=[0,60,90,120]\n",
    "    threshold=[0.02,0.005,0.004,0.004]\n",
    "    angles=[0,np.pi/3,np.pi/2,2*np.pi/3]\n",
    "    response=np.zeros(4)\n",
    "    for i in range(len(angles)):\n",
    "        gabor_kernel = cv2.getGaborKernel(ksize=(11,11), sigma=2, theta=angles[i], lambd=4, gamma=2, psi=0)\n",
    "        box=color.rgb2gray(box)\n",
    "        filtered = ndi.convolve(box, gabor_kernel, mode='wrap')\n",
    "        filtered[filtered<0.85]=0\n",
    "        if plot:\n",
    "            ax[int(i/2),int(i%2)].imshow(gabor_kernel,cmap='gray')\n",
    "            ax[int(i/2),int(i%2)].set_title(\"GaborKernel at \"+str(ori[i])+\" degree\")\n",
    "            ax[int(i/2),int(i%2)].axis(\"off\")\n",
    "        if(filtered.mean()<threshold[i]):\n",
    "            response[i]=0\n",
    "        else:\n",
    "            response[i]=1\n",
    "    if(response[0]==1 and response[2]==1):   # response for 90 and 0 degree#\n",
    "        return \"square\"\n",
    "    if(response[1]==1 and response[2]==1 and response[3]==1):#response for 0,60,120  then triangle#\n",
    "        return \"triangle\""
   ]
  },
  {
   "cell_type": "markdown",
   "metadata": {},
   "source": [
    "## Sample Shapes "
   ]
  },
  {
   "cell_type": "code",
   "execution_count": 4,
   "metadata": {},
   "outputs": [
    {
     "data": {
      "image/png": "[encoded data removed]",
      "text/plain": [
       "<Figure size 576x360 with 2 Axes>"
      ]
     },
     "metadata": {
      "needs_background": "light"
     },
     "output_type": "display_data"
    }
   ],
   "source": [
    "tri = np.ones((60, 60, 3), dtype=np.double)\n",
    "rr,cc=dtriangle(25,25)\n",
    "rr,cc=polygon(rr,cc, tri.shape);tri[rr, cc, :] = 0\n",
    "rec = np.ones((60, 60, 3), dtype=np.double)\n",
    "rr,cc=dsquare(25,25)\n",
    "rr,cc=polygon(rr,cc, rec.shape);rec[rr, cc, :] = 0\n",
    "fig,ax=plt.subplots(1,2,figsize=[8,5])\n",
    "ax[0].imshow(tri)\n",
    "ax[1].imshow(rec)\n",
    "plt.show()"
   ]
  },
  {
   "cell_type": "markdown",
   "metadata": {},
   "source": [
    "## Gabor Kernel at different thetha"
   ]
  },
  {
   "cell_type": "code",
   "execution_count": 5,
   "metadata": {},
   "outputs": [
    {
     "name": "stdout",
     "output_type": "stream",
     "text": [
      "square\n",
      "triangle\n"
     ]
    },
    {
     "data": {
      "image/png": "[encoded data removed]",
      "text/plain": [
       "<Figure size 720x360 with 4 Axes>"
      ]
     },
     "metadata": {
      "needs_background": "light"
     },
     "output_type": "display_data"
    }
   ],
   "source": [
    "print(complexcell(rec,plot=False)) #square image given as input\n",
    "print(complexcell(tri,plot=True)) #triangle image given as input\n",
    "plt.savefig('GaborResponse.png', bbox_inches='tight')"
   ]
  },
  {
   "cell_type": "markdown",
   "metadata": {},
   "source": [
    "### Sample response for rectangle."
   ]
  },
  {
   "cell_type": "code",
   "execution_count": 6,
   "metadata": {},
   "outputs": [
    {
     "data": {
      "image/png": "[encoded data removed]",
      "text/plain": [
       "<Figure size 576x360 with 2 Axes>"
      ]
     },
     "metadata": {
      "needs_background": "light"
     },
     "output_type": "display_data"
    }
   ],
   "source": [
    "gabor_kernel = cv2.getGaborKernel(ksize=(11,11), sigma=2, theta=np.pi/2, lambd=4, gamma=2, psi=0)\n",
    "rec=color.rgb2gray(rec)\n",
    "filtered = ndi.convolve(rec, gabor_kernel, mode='wrap')\n",
    "filtered[filtered<0.85]=0\n",
    "fig,ax=plt.subplots(1,2,figsize=(8,5))\n",
    "ax[0].imshow(filtered,cmap='gray')\n",
    "ax[0].set_title(\"At 90 degree\")\n",
    "gabor_kernel = cv2.getGaborKernel(ksize=(11,11), sigma=2, theta=0, lambd=4, gamma=2, psi=0)\n",
    "rec=color.rgb2gray(rec)\n",
    "filtered = ndi.convolve(rec, gabor_kernel, mode='wrap')\n",
    "filtered[filtered<0.85]=0\n",
    "ax[1].imshow(filtered,cmap='gray')\n",
    "ax[1].set_title(\"At 0 degree\")\n",
    "plt.savefig('RectangleResponse.png', bbox_inches='tight')\n",
    "plt.show()"
   ]
  },
  {
   "cell_type": "markdown",
   "metadata": {},
   "source": [
    "### Sample response for Triangle"
   ]
  },
  {
   "cell_type": "code",
   "execution_count": 7,
   "metadata": {},
   "outputs": [
    {
     "data": {
      "image/png": "[encoded data removed]",
      "text/plain": [
       "<Figure size 720x360 with 3 Axes>"
      ]
     },
     "metadata": {
      "needs_background": "light"
     },
     "output_type": "display_data"
    }
   ],
   "source": [
    "gabor_kernel = cv2.getGaborKernel(ksize=(11,11), sigma=2, theta=np.pi/3, lambd=4, gamma=2, psi=0)\n",
    "tri=color.rgb2gray(tri)\n",
    "filtered = ndi.convolve(tri, gabor_kernel, mode='wrap')\n",
    "filtered[filtered<1.05]=0\n",
    "fig,ax=plt.subplots(1,3,figsize=(10,5))\n",
    "ax[0].imshow(filtered,cmap='gray')\n",
    "ax[0].set_title(\"At 60 degree\")\n",
    "gabor_kernel = cv2.getGaborKernel(ksize=(11,11), sigma=2, theta=2*np.pi/3, lambd=4, gamma=2, psi=0)\n",
    "filtered = ndi.convolve(tri, gabor_kernel, mode='wrap')\n",
    "filtered[filtered<1.05]=0\n",
    "ax[1].imshow(filtered,cmap='gray')\n",
    "ax[1].set_title(\"At 120 degree\")\n",
    "gabor_kernel = cv2.getGaborKernel(ksize=(11,11), sigma=2, theta=np.pi/2, lambd=4, gamma=2, psi=0)\n",
    "filtered = ndi.convolve(tri, gabor_kernel, mode='wrap')\n",
    "filtered[filtered<1.05]=0\n",
    "ax[2].imshow(filtered,cmap='gray')\n",
    "ax[2].set_title(\"At 90 degree\")\n",
    "plt.savefig('TriangleResponse.png', bbox_inches='tight')\n",
    "plt.show()"
   ]
  },
  {
   "cell_type": "markdown",
   "metadata": {},
   "source": [
    "# 2) Image generation for paradigm"
   ]
  },
  {
   "cell_type": "code",
   "execution_count": 8,
   "metadata": {},
   "outputs": [],
   "source": [
    "def findnonoverlapping(tobjects):\n",
    "    img = np.ones((600, 600, 3), dtype=np.double)\n",
    "    j=0\n",
    "    mainpos=[]\n",
    "    while j<tobjects:\n",
    "        posx=np.random.randint(70,520,1)\n",
    "        posy=np.random.randint(70,520,1)\n",
    "        rr,cc=dsquare(posx,posy)\n",
    "        rrb,ccb=dbox(posx,posy)\n",
    "        rr,cc=polygon(rr,cc, img.shape)\n",
    "        rrb,ccb=polygon(rrb,ccb, img.shape)\n",
    "        flag=1\n",
    "        for i in range(len(rr)):\n",
    "            if(img[rr[i],cc[i],2]==0.5):\n",
    "                flag=0\n",
    "                break\n",
    "        if(flag):\n",
    "            img[rrb, ccb, 2] = 0.5\n",
    "            j+=1\n",
    "            mainpos.append((posx,posy))\n",
    "    return mainpos "
   ]
  },
  {
   "cell_type": "code",
   "execution_count": 9,
   "metadata": {},
   "outputs": [],
   "source": [
    "def drawinimage(img,shp,color,pos):\n",
    "    if(shp==\"triangle\"):\n",
    "        row,col=dtriangle(pos[0],pos[1])\n",
    "    else:\n",
    "        row,col=dsquare(pos[0],pos[1])\n",
    "        \n",
    "    if(color==\"red\"):\n",
    "            pc=(1,0,0)\n",
    "    else:\n",
    "        pc=(0,0,1)\n",
    "    row,col=polygon(row,col,img.shape)\n",
    "    img[row,col,:]=pc\n",
    "    return img"
   ]
  },
  {
   "cell_type": "code",
   "execution_count": 10,
   "metadata": {},
   "outputs": [],
   "source": [
    "def GeneratePardigm(tobjects=10,paradigm=\"feature\"):\n",
    "    mainpos=findnonoverlapping(tobjects)\n",
    "    img = np.ones((600, 600, 3), dtype=np.double)\n",
    "    if(paradigm==\"conjuction\"):\n",
    "        conj=[(\"red\",\"square\"),(\"red\",\"triangle\"),(\"blue\",\"square\"),(\"blue\",\"triangle\")]\n",
    "        oddconj=conj[np.random.randint(4)]\n",
    "        conj.remove(oddconj)\n",
    "        for i in range(len(mainpos)-1):\n",
    "            dis=conj[np.random.randint(3)]\n",
    "            color=dis[0]\n",
    "            shape=dis[1]\n",
    "            img=drawinimage(img,shape,color,mainpos[i])\n",
    "        img=drawinimage(img,oddconj[1],oddconj[0],mainpos[i+1])\n",
    "        \n",
    "    if(paradigm==\"feature\"):\n",
    "        ftr=[\"color\",\"shape\"][np.random.randint(2)]\n",
    "        clr=[\"red\",\"blue\"][np.random.randint(2)]\n",
    "        shp=[\"square\",\"triangle\"][np.random.randint(2)]\n",
    "        if(ftr==\"color\"):\n",
    "            oddshape=shp\n",
    "            c=[\"red\",\"blue\"]\n",
    "            c.remove(clr)\n",
    "            oddcolor=c[0]\n",
    "        else:\n",
    "            s=[\"square\",\"triangle\"]\n",
    "            s.remove(shp)\n",
    "            oddcolor=clr\n",
    "            oddshape=s[0]\n",
    "        for i in range(len(mainpos)-1):\n",
    "            img=drawinimage(img,shp,clr,mainpos[i])\n",
    "        img=drawinimage(img,oddshape,oddcolor,mainpos[i+1])\n",
    "        \n",
    "    return img,mainpos\n",
    "    "
   ]
  },
  {
   "cell_type": "markdown",
   "metadata": {},
   "source": [
    "## Feature and Conjuction Image Frames:\n",
    "#### In case of Feature any one of color or shape can be feature(randomly)\n",
    "Please make sure that no of distractor not gretater than 60 that much will not fit in image size used."
   ]
  },
  {
   "cell_type": "code",
   "execution_count": 11,
   "metadata": {},
   "outputs": [
    {
     "data": {
      "image/png": "[encoded data removed]",
      "text/plain": [
       "<Figure size 1080x720 with 2 Axes>"
      ]
     },
     "metadata": {
      "needs_background": "light"
     },
     "output_type": "display_data"
    }
   ],
   "source": [
    "img,mainpos=GeneratePardigm(40,\"feature\")\n",
    "img2,mainpos2=GeneratePardigm(40,\"conjuction\")\n",
    "plt.figure(figsize=(15,10))\n",
    "plt.subplot(1,2,1);plt.imshow(img);plt.title(\"Feature\")\n",
    "plt.subplot(1,2,2);plt.imshow(img2);plt.title(\"Conjuction\")\n",
    "plt.savefig('ImageFrame.png', bbox_inches='tight')\n",
    "plt.show()\n"
   ]
  },
  {
   "cell_type": "markdown",
   "metadata": {},
   "source": [
    "# 3) Simulation of Feature Integration Theory"
   ]
  },
  {
   "cell_type": "markdown",
   "metadata": {},
   "source": [
    "#### Result of complex cell on above conjuction image"
   ]
  },
  {
   "cell_type": "code",
   "execution_count": 12,
   "metadata": {
    "scrolled": false
   },
   "outputs": [
    {
     "data": {
      "image/png": "[encoded data removed]",
      "text/plain": [
       "<Figure size 576x576 with 40 Axes>"
      ]
     },
     "metadata": {
      "needs_background": "light"
     },
     "output_type": "display_data"
    }
   ],
   "source": [
    "fig = plt.figure(figsize=(8,8))\n",
    "for i in range(len(mainpos2)):\n",
    "    pos=mainpos2[i]\n",
    "    r,c=dbox(pos[0],pos[1])\n",
    "    r1,r2=int(r[0]),int(r[2])\n",
    "    c1,c2=int(c[0]),int(c[2])\n",
    "    box=img2[r1:r2,c1:c2]\n",
    "    plt.subplot(5,8,i+1)\n",
    "    plt.title(complexcell(box,plot=False))\n",
    "    plt.axis(\"off\")\n",
    "    plt.imshow(box)\n",
    "plt.savefig('PreAttentive.png', bbox_inches='tight')\n",
    "plt.show()"
   ]
  },
  {
   "cell_type": "code",
   "execution_count": 13,
   "metadata": {},
   "outputs": [],
   "source": [
    "def GetColor(pos,img):\n",
    "    clr=img[pos[0],pos[1]]\n",
    "    if(clr[0]==1):\n",
    "        return \"red\"\n",
    "    if(clr[2]==1):\n",
    "        return \"blue\"\n",
    "def GetShape(pos,img):\n",
    "    r,c=dbox(pos[0],pos[1])\n",
    "    r1,r2=int(r[0]),int(r[2])\n",
    "    c1,c2=int(c[0]),int(c[2])\n",
    "    box=img[r1:r2,c1:c2]\n",
    "    return complexcell(box)"
   ]
  },
  {
   "cell_type": "code",
   "execution_count": 14,
   "metadata": {},
   "outputs": [],
   "source": [
    "def smooth(y, box_pts):\n",
    "    box = np.ones(box_pts)/box_pts\n",
    "    y_smooth = np.convolve(y, box, mode='same')\n",
    "    return y_smooth"
   ]
  },
  {
   "cell_type": "code",
   "execution_count": 15,
   "metadata": {},
   "outputs": [],
   "source": [
    "def findodd(img,mainpos,colorinfo,shapeinfo):    \n",
    "    mobject=[]\n",
    "    c=1\n",
    "    setcolorinfo=set(colorinfo.values())\n",
    "    setshapeinfo=set(shapeinfo.values())\n",
    "    for d in mainpos:\n",
    "        time.sleep(0.00001) \n",
    "        # simulated delay for neural response#######################\n",
    "        pos=(d[0][0],d[1][0])\n",
    "        ########################################feature search#######################################\n",
    "        # no need to go through location map########################################################\n",
    "        if(len(setcolorinfo)==1 or len(setshapeinfo)==1):\n",
    "            if(len(setcolorinfo)!=1):\n",
    "                dealinfo=colorinfo\n",
    "            else:\n",
    "                dealinfo=shapeinfo\n",
    "            \n",
    "            lfo=list(dealinfo.values())\n",
    "            unique=[lfo[0]]\n",
    "            seen=[lfo[0]]\n",
    "            loc=mainpos[0]\n",
    "            for i in range(1,len(lfo)):\n",
    "                if(lfo[i] in unique or lfo[i] in seen):\n",
    "                    seen.append(lfo[i])\n",
    "                    if(lfo[i] in unique):\n",
    "                        unique.remove(lfo[i])\n",
    "                else:\n",
    "                    unique.append(lfo[i])\n",
    "                    loc=mainpos[i]\n",
    "            break\n",
    "        ###################################################################################################\n",
    "        else:\n",
    "            ###########Conjuction search need to go through all the \n",
    "            #location in Master map to detect unique element\n",
    "            objectinfo=colorinfo[pos]+\" \"+shapeinfo[pos]\n",
    "            if(c==1):\n",
    "                unique=[objectinfo];seen=[];c=1-c;loc=pos\n",
    "            if(objectinfo in unique or objectinfo in seen):\n",
    "                seen.append(objectinfo)\n",
    "                if(objectinfo in unique):\n",
    "                    unique.remove(objectinfo)\n",
    "            else:\n",
    "                unique.append(objectinfo)\n",
    "                loc=pos\n",
    "    return loc"
   ]
  },
  {
   "cell_type": "code",
   "execution_count": 16,
   "metadata": {},
   "outputs": [],
   "source": [
    "def PreAttentiveFeature(img,mainpos):\n",
    "    colorinfo={}\n",
    "    shapeinfo={}\n",
    "    for i in mainpos:\n",
    "        pos=(i[0][0],i[1][0])\n",
    "        colorinfo[pos]=GetColor(pos,img)\n",
    "        shapeinfo[pos]=GetShape(pos,img)\n",
    "    return (colorinfo,shapeinfo)"
   ]
  },
  {
   "cell_type": "markdown",
   "metadata": {},
   "source": [
    "### Sample Result for Feature Search:"
   ]
  },
  {
   "cell_type": "code",
   "execution_count": 17,
   "metadata": {},
   "outputs": [
    {
     "data": {
      "image/png": "[encoded data removed]",
      "text/plain": [
       "<Figure size 720x288 with 2 Axes>"
      ]
     },
     "metadata": {
      "needs_background": "light"
     },
     "output_type": "display_data"
    }
   ],
   "source": [
    "img,mainpos=GeneratePardigm(20,\"feature\")\n",
    "fig,ax=plt.subplots(1,2,figsize=[10,4])\n",
    "colorinfo,shapeinfo=PreAttentiveFeature(img,mainpos)\n",
    "loc=findodd(img,mainpos,colorinfo,shapeinfo)\n",
    "pos=loc\n",
    "ax[0].imshow(img)\n",
    "ax[0].set_title(\"Feature Search\")\n",
    "r,c=dbox(pos[0],pos[1])\n",
    "r1,r2=int(r[0]),int(r[2])\n",
    "c1,c2=int(c[0]),int(c[2])\n",
    "img = cv2.rectangle(img,(c1,r1),(c2,r2),(0,0,0),3)\n",
    "ax[1].imshow(img)\n",
    "ax[1].set_title(\"Detected odd element\")\n",
    "plt.savefig('Featureodd.png', bbox_inches='tight')\n",
    "plt.show()"
   ]
  },
  {
   "cell_type": "markdown",
   "metadata": {},
   "source": [
    "### Sample Result for Conjuction Search:"
   ]
  },
  {
   "cell_type": "code",
   "execution_count": 18,
   "metadata": {},
   "outputs": [
    {
     "data": {
      "image/png": "[encoded data removed]",
      "text/plain": [
       "<Figure size 576x288 with 2 Axes>"
      ]
     },
     "metadata": {
      "needs_background": "light"
     },
     "output_type": "display_data"
    }
   ],
   "source": [
    "img,mainpos=GeneratePardigm(30,\"conjuction\")\n",
    "fig,ax=plt.subplots(1,2,figsize=[8,4])\n",
    "colorinfo,shapeinfo=PreAttentiveFeature(img,mainpos)\n",
    "loc=findodd(img,mainpos,colorinfo,shapeinfo)\n",
    "pos=loc\n",
    "ax[0].imshow(img)\n",
    "ax[0].set_title(\"Conjuction Search\")\n",
    "r,c=dbox(pos[0],pos[1])\n",
    "r1,r2=int(r[0]),int(r[2])\n",
    "c1,c2=int(c[0]),int(c[2])\n",
    "img = cv2.rectangle(img,(c1,r1),(c2,r2),(0,0,0),3)\n",
    "ax[1].imshow(img)\n",
    "ax[1].set_title(\"Detected odd element\")\n",
    "plt.savefig('Conjuctionodd.png', bbox_inches='tight')\n",
    "plt.show()"
   ]
  },
  {
   "cell_type": "markdown",
   "metadata": {},
   "source": [
    "## Graph of response time vs No. of distractor"
   ]
  },
  {
   "cell_type": "code",
   "execution_count": 19,
   "metadata": {},
   "outputs": [],
   "source": [
    "################################################Feature################################################\n",
    "responsetimefeature=[]\n",
    "for i in range(4,50):\n",
    "    img,mainpos=GeneratePardigm(i,\"feature\")\n",
    "    colorinfo,shapeinfo=PreAttentiveFeature(img,mainpos)\n",
    "    \n",
    "    t=time.time()#######################################start of response time#################\n",
    "    loc=findodd(img,mainpos,colorinfo,shapeinfo)\n",
    "    responsetimefeature.append(time.time()-t)\n",
    "\n",
    "    \n",
    "################################################Conjuction###############################################\n",
    "responsetimeconjuction=[]\n",
    "for i in range(4,50):\n",
    "    img,mainpos=GeneratePardigm(i,\"conjuction\")\n",
    "    colorinfo,shapeinfo=PreAttentiveFeature(img,mainpos)\n",
    "    \n",
    "    \n",
    "    t=time.time()#######################################start of response time#################\n",
    "    loc=findodd(img,mainpos,colorinfo,shapeinfo)\n",
    "    responsetimeconjuction.append(time.time()-t)"
   ]
  },
  {
   "cell_type": "code",
   "execution_count": 20,
   "metadata": {},
   "outputs": [
    {
     "data": {
      "image/png": "[encoded data removed]",
      "text/plain": [
       "<Figure size 720x432 with 1 Axes>"
      ]
     },
     "metadata": {
      "needs_background": "light"
     },
     "output_type": "display_data"
    }
   ],
   "source": [
    "plt.figure(figsize=(10,6))\n",
    "responsetimes=np.array(responsetimefeature)\n",
    "responsetimes2=np.array(responsetimeconjuction)\n",
    "plt.plot([i for i in range(4,50)],responsetimes)\n",
    "plt.plot([i for i in range(4,50)],responsetimes2)\n",
    "plt.legend([\"feature\",\"conjuction\"],loc=2)\n",
    "plt.xlabel(\"No of Objects\")\n",
    "plt.ylabel(\"Response time\")\n",
    "plt.title(\"Response time vs No. of Object\")\n",
    "plt.savefig('ResponseGraph.png', bbox_inches='tight')\n",
    "plt.show()"
   ]
  },
  {
   "cell_type": "markdown",
   "metadata": {},
   "source": [
    "#### ________________________________________________END________________________________________________"
   ]
  }
 ],
 "metadata": {
  "kernelspec": {
   "display_name": "Python 3",
   "language": "python",
   "name": "python3"
  },
  "language_info": {
   "codemirror_mode": {
    "name": "ipython",
    "version": 3
   },
   "file_extension": ".py",
   "mimetype": "text/x-python",
   "name": "python",
   "nbconvert_exporter": "python",
   "pygments_lexer": "ipython3",
   "version": "3.7.1"
  }
 },
 "nbformat": 4,
 "nbformat_minor": 2
}
