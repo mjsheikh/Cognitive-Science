{
 "cells": [
  {
   "cell_type": "markdown",
   "metadata": {},
   "source": [
    "# Part3"
   ]
  },
  {
   "cell_type": "code",
   "execution_count": 1,
   "metadata": {},
   "outputs": [],
   "source": [
    "import numpy as np\n",
    "import random\n",
    "import scipy.stats as stats\n",
    "import matplotlib.pyplot as plt"
   ]
  },
  {
   "cell_type": "code",
   "execution_count": 2,
   "metadata": {},
   "outputs": [],
   "source": [
    "N_WORLD_FEATURES = 5  #the temporal context model assumes that the past becomes increasingly\n",
    "N_ITEMS = 10          #dissimilar to the future, so that memories become harder to retrieve the\n",
    "ENCODING_TIME = 500   #farther away in the past they are\n",
    "TEST_TIME = 20"
   ]
  },
  {
   "cell_type": "code",
   "execution_count": 3,
   "metadata": {},
   "outputs": [
    {
     "data": {
      "text/plain": [
       "19.23076923076923"
      ]
     },
     "execution_count": 3,
     "metadata": {},
     "output_type": "execute_result"
    }
   ],
   "source": [
    "schedule =np.column_stack((np.sort(np.round(np.random.random(N_ITEMS)*500)),np.arange(N_ITEMS)))\n",
    "schedule_load = ENCODING_TIME/np.median(np.diff(schedule[:,0]))\n",
    "encoding = np.zeros((N_ITEMS,N_WORLD_FEATURES+1))\n",
    "schedule_load"
   ]
  },
  {
   "cell_type": "code",
   "execution_count": 4,
   "metadata": {},
   "outputs": [],
   "source": [
    "def generatemixgaussian():\n",
    "#     numpy.random.seed(0x5eed)\n",
    "    mean=[0,1]\n",
    "    var=0.2\n",
    "    y=list()\n",
    "    for i in range(10000):\n",
    "        sample=np.random.choice(2,1,p=[0.5,0.5])\n",
    "        y.append(stats.norm.rvs(mean[sample[0]],var))\n",
    "    y=np.array(y)\n",
    "    x_eval = np.linspace(y.min(), y.max(), 400)\n",
    "    bimodal_pdf = stats.norm.pdf(x_eval, loc=mean[0], scale=var)*0.5 + stats.norm.pdf(x_eval, loc=mean[1], scale=var) *0.5\n",
    "    plt.plot(x_eval, bimodal_pdf, 'r--', label=\"Actual PDF\")\n",
    "    plt.hist(y, density=True, bins=20)\n",
    "    plt.title(\"small mean: 0;large mean 1;var in both=0.2\")\n",
    "    plt.savefig('mixgaussian.png',bbox='tight')\n",
    "    plt.show()\n",
    "    return np.array(y)"
   ]
  },
  {
   "cell_type": "code",
   "execution_count": 5,
   "metadata": {},
   "outputs": [
    {
     "data": {
      "image/png": "[encoded data removed]",
      "text/plain": [
       "<Figure size 432x288 with 1 Axes>"
      ]
     },
     "metadata": {
      "needs_background": "light"
     },
     "output_type": "display_data"
    }
   ],
   "source": [
    "mixmodel=generatemixgaussian()"
   ]
  },
  {
   "cell_type": "code",
   "execution_count": 6,
   "metadata": {},
   "outputs": [],
   "source": [
    "world_m = np.array([1 ,2 ,1, 2, 3])          \n",
    "world_var = 1\n",
    "delta = np.random.choice(mixmodel)                \n",
    "beta_param = 0.001      #context drift parameter, ct=beta*ct + c_t-1      \n",
    "m = 0"
   ]
  },
  {
   "cell_type": "code",
   "execution_count": 7,
   "metadata": {},
   "outputs": [],
   "source": [
    "def drawFromADist(p):\n",
    "    if(np.sum(p)==0):\n",
    "        p = 0.05*np.ones(len(p))\n",
    "    p=p/np.sum(p)\n",
    "    c=np.cumsum(p)\n",
    "    idx=np.where((np.random.random(1)-np.cumsum(p))<0)\n",
    "    sample=np.min(idx)\n",
    "    out = np.zeros(len(p))\n",
    "    out[sample] = 1\n",
    "#     out[out==0] = 0.1\n",
    "    return out"
   ]
  },
  {
   "cell_type": "markdown",
   "metadata": {},
   "source": [
    "#### Simulation encoding"
   ]
  },
  {
   "cell_type": "code",
   "execution_count": 8,
   "metadata": {},
   "outputs": [],
   "source": [
    "saved_delta=list()\n",
    "for time in range(ENCODING_TIME):\n",
    "    world_m = world_m + delta\n",
    "    #world_m = beta_param*world_m + delta\n",
    "    world = np.random.normal(world_m, world_var)\n",
    "    delta=np.random.choice(mixmodel)\n",
    "    saved_delta.append(delta)\n",
    "    if(m<N_ITEMS):\n",
    "        if(time==schedule[m,0]):\n",
    "            encoding[m,0:5] =  world\n",
    "            encoding[m,5]=m     #encoding world context and item\n",
    "            m =  m + 1\n",
    "saved_delta=np.array(saved_delta)"
   ]
  },
  {
   "cell_type": "markdown",
   "metadata": {},
   "source": [
    "## Expectation maximization to learn the drift distribution parameters\n",
    "#### Learnt distribution will be used during retrieval period"
   ]
  },
  {
   "cell_type": "code",
   "execution_count": 9,
   "metadata": {},
   "outputs": [
    {
     "data": {
      "text/plain": [
       "GaussianMixture(covariance_type='full', init_params='kmeans', max_iter=100,\n",
       "        means_init=None, n_components=2, n_init=1, precisions_init=None,\n",
       "        random_state=None, reg_covar=1e-06, tol=1e-06, verbose=0,\n",
       "        verbose_interval=10, warm_start=False, weights_init=None)"
      ]
     },
     "execution_count": 9,
     "metadata": {},
     "output_type": "execute_result"
    }
   ],
   "source": [
    "from sklearn.mixture import GaussianMixture\n",
    "newgaussianmodel = GaussianMixture(n_components = 2, tol=0.000001) # since we know bimodal distribution\n",
    "newgaussianmodel.fit(np.expand_dims(saved_delta, 1))               # Parameters: 1 dimension dataset so 1 feature"
   ]
  },
  {
   "cell_type": "code",
   "execution_count": 10,
   "metadata": {},
   "outputs": [
    {
     "name": "stdout",
     "output_type": "stream",
     "text": [
      "Means are : [[0.00150467]\n",
      " [1.00992007]]\n"
     ]
    }
   ],
   "source": [
    "print(\"Means are :\",newgaussianmodel.means_)\n",
    "# now we sample from learned model"
   ]
  },
  {
   "cell_type": "markdown",
   "metadata": {},
   "source": [
    "#### Simulating retrieval using SAM, but with a bijective image-item mapping"
   ]
  },
  {
   "cell_type": "code",
   "execution_count": 11,
   "metadata": {},
   "outputs": [],
   "source": [
    "out=np.zeros(TEST_TIME)\n",
    "while(time<ENCODING_TIME+TEST_TIME):\n",
    "    delta=np.random.choice(newgaussianmodel.sample()[0][0])\n",
    "    world_m = world_m + delta\n",
    "#     world_m = beta_param*world_m + delta\n",
    "    world = np.random.normal(world_m, world_var)\n",
    "    soa=np.zeros(N_ITEMS)\n",
    "    temp=np.zeros(N_WORLD_FEATURES+1)\n",
    "    for m in range(N_ITEMS):\n",
    "        temp[0:5] =  world\n",
    "        temp[5]=m\n",
    "        soa[m]=np.dot(encoding[m,0:-1],temp[0:-1].T)     \n",
    "    soa=soa/np.linalg.norm(soa)\n",
    "    out[time-ENCODING_TIME] = np.where(drawFromADist(soa)>0)[0]\n",
    "    time = time + 1"
   ]
  },
  {
   "cell_type": "code",
   "execution_count": 12,
   "metadata": {},
   "outputs": [
    {
     "name": "stdout",
     "output_type": "stream",
     "text": [
      "Success is 9 with scheduling load 19.23076923076923\n"
     ]
    }
   ],
   "source": [
    "success=len(np.unique(out))\n",
    "print(\"Success is {} with scheduling load {}\".format(success,schedule_load))"
   ]
  },
  {
   "cell_type": "markdown",
   "metadata": {},
   "source": [
    "### Over multiple trial with previous question optimal scheduling policy"
   ]
  },
  {
   "cell_type": "code",
   "execution_count": 13,
   "metadata": {},
   "outputs": [],
   "source": [
    "def model(schedule):\n",
    "    N_WORLD_FEATURES = 5\n",
    "    N_ITEMS = 10\n",
    "    ENCODING_TIME = 500\n",
    "    TEST_TIME = 20\n",
    "    schedule_load = ENCODING_TIME/np.median(np.diff(schedule[:,0]))\n",
    "    encoding = np.zeros((N_ITEMS,N_WORLD_FEATURES+1))\n",
    "    \n",
    "    \n",
    "    world_m = np.array([1 ,2 ,1, 2, 3])          \n",
    "    world_var = 1\n",
    "    delta = np.random.choice(mixmodel)                  \n",
    "    beta_param = 0.001      #context drift parameter, ct=beta*ct + c_t-1      \n",
    "    m = 0\n",
    "    \n",
    "    #########encoding########################################\n",
    "    saved_delta=list()\n",
    "    for time in range(1,ENCODING_TIME):\n",
    "        world_m = world_m + delta\n",
    "        world_m = beta_param*world_m + delta\n",
    "        world = np.random.normal(world_m, world_var)\n",
    "        delta=np.random.choice(mixmodel)\n",
    "        saved_delta.append(delta)\n",
    "        if(m<N_ITEMS):\n",
    "            if(time==schedule[m,0]):\n",
    "                encoding[m,0:5] =  world\n",
    "                encoding[m,5]=m     #encoding world context and item\n",
    "                m =  m + 1\n",
    "    saved_delta=np.array(saved_delta)\n",
    "    \n",
    "    #####################################Expectation Maximization Step#####################\n",
    "    from sklearn.mixture import GaussianMixture\n",
    "    newgaussianmodel = GaussianMixture(n_components = 2, tol=0.000001) # since we know bimodal distribution\n",
    "    newgaussianmodel.fit(np.expand_dims(saved_delta, 1))  \n",
    "    \n",
    "    \n",
    "     \n",
    "    ########################################retrieval##########################\n",
    "    out=np.zeros(TEST_TIME)\n",
    "    while(time<ENCODING_TIME+TEST_TIME):\n",
    "        delta=np.random.choice(newgaussianmodel.sample()[0][0])\n",
    "        world_m = world_m + delta\n",
    "        world_m = beta_param*world_m + delta\n",
    "        world = np.random.normal(world_m, world_var)\n",
    "        soa=np.zeros(N_ITEMS)\n",
    "        temp=np.zeros(N_WORLD_FEATURES+1)\n",
    "        for m in range(N_ITEMS):\n",
    "            temp[0:5] =  world\n",
    "            temp[5]=m\n",
    "            soa[m]=np.dot(encoding[m,0:-1],temp[0:-1].T)     \n",
    "        soa=soa/np.linalg.norm(soa)\n",
    "        out[time-ENCODING_TIME] = np.where(drawFromADist(soa)>0)[0]\n",
    "        time = time + 1\n",
    "    return len(np.unique(out)),schedule_load"
   ]
  },
  {
   "cell_type": "code",
   "execution_count": 14,
   "metadata": {},
   "outputs": [
    {
     "data": {
      "image/png": "[encoded data removed]",
      "text/plain": [
       "<Figure size 432x288 with 1 Axes>"
      ]
     },
     "metadata": {
      "needs_background": "light"
     },
     "output_type": "display_data"
    },
    {
     "name": "stdout",
     "output_type": "stream",
     "text": [
      "[[  1   0]\n",
      " [100   1]\n",
      " [200   2]\n",
      " [300   3]\n",
      " [400   4]\n",
      " [495   5]\n",
      " [496   6]\n",
      " [497   7]\n",
      " [498   8]\n",
      " [499   9]]\n"
     ]
    }
   ],
   "source": [
    "g=[1, 100, 200, 300, 400, 495, 496, 497, 498,499]  \n",
    "schedule =np.column_stack((np.sort(g),np.arange(N_ITEMS)))\n",
    "schedule_load = ENCODING_TIME/np.median(np.diff(schedule[:,0]))\n",
    "np.random.seed(47)\n",
    "x=[model(schedule) for i in range(100)]\n",
    "x=np.array(x)\n",
    "plt.plot(np.arange(100),x[:,0],c='orange')\n",
    "plt.ylabel('Success')\n",
    "plt.xlabel('No of iteration')\n",
    "plt.title('Mean Success is '+str(np.mean(x[:,0]))+\" with scheduling load \"+str(schedule_load))\n",
    "plt.savefig('With_learned_parameter',bbox='tight')\n",
    "plt.show()\n",
    "print(schedule)"
   ]
  },
  {
   "cell_type": "code",
   "execution_count": 15,
   "metadata": {},
   "outputs": [],
   "source": [
    "######################END############################################################################################"
   ]
  }
 ],
 "metadata": {
  "kernelspec": {
   "display_name": "Python 3",
   "language": "python",
   "name": "python3"
  },
  "language_info": {
   "codemirror_mode": {
    "name": "ipython",
    "version": 3
   },
   "file_extension": ".py",
   "mimetype": "text/x-python",
   "name": "python",
   "nbconvert_exporter": "python",
   "pygments_lexer": "ipython3",
   "version": "3.7.1"
  }
 },
 "nbformat": 4,
 "nbformat_minor": 2
}
