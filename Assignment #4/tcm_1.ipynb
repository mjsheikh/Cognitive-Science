{
 "cells": [
  {
   "cell_type": "markdown",
   "metadata": {},
   "source": [
    "# Part 1"
   ]
  },
  {
   "cell_type": "code",
   "execution_count": 1,
   "metadata": {},
   "outputs": [],
   "source": [
    "import numpy as np\n",
    "import random\n",
    "import matplotlib.pyplot as plt\n",
    "#the temporal context model assumes that the past becomes increasingly\n",
    "#dissimilar to the future, so that memories become harder to retrieve the\n",
    "#farther away in the past they are"
   ]
  },
  {
   "cell_type": "code",
   "execution_count": 2,
   "metadata": {},
   "outputs": [],
   "source": [
    "N_WORLD_FEATURES = 5\n",
    "N_ITEMS = 10\n",
    "ENCODING_TIME = 500\n",
    "TEST_TIME = 20"
   ]
  },
  {
   "cell_type": "code",
   "execution_count": 3,
   "metadata": {},
   "outputs": [
    {
     "data": {
      "text/plain": [
       "9.803921568627452"
      ]
     },
     "execution_count": 3,
     "metadata": {},
     "output_type": "execute_result"
    }
   ],
   "source": [
    "schedule =np.column_stack((np.sort(np.round(np.random.random(N_ITEMS)*500)),np.arange(N_ITEMS)))\n",
    "schedule_load = ENCODING_TIME/np.median(np.diff(schedule[:,0]))\n",
    "encoding = np.zeros((N_ITEMS,N_WORLD_FEATURES+1))\n",
    "schedule_load"
   ]
  },
  {
   "cell_type": "code",
   "execution_count": 4,
   "metadata": {},
   "outputs": [],
   "source": [
    "world_m = np.array([1 ,2 ,1, 2, 3])          \n",
    "world_var = 1\n",
    "delta = 0.05                   \n",
    "beta_param = 0.001      #context drift parameter, ct=beta*ct + c_t-1      \n",
    "m = 0"
   ]
  },
  {
   "cell_type": "code",
   "execution_count": 5,
   "metadata": {},
   "outputs": [],
   "source": [
    "def drawFromADist(p):\n",
    "    if(np.sum(p)==0):\n",
    "        p = 0.05*np.ones(len(p))\n",
    "    p=p/np.sum(p)\n",
    "    c=np.cumsum(p)\n",
    "    idx=np.where((np.random.random(1)-np.cumsum(p))<0)\n",
    "    sample=np.min(idx)\n",
    "    out = np.zeros(len(p))\n",
    "    out[sample] = 1\n",
    "#     out[out==0] = 0.1\n",
    "    return out"
   ]
  },
  {
   "cell_type": "markdown",
   "metadata": {},
   "source": [
    "#### Simulation encoding"
   ]
  },
  {
   "cell_type": "code",
   "execution_count": 6,
   "metadata": {},
   "outputs": [],
   "source": [
    "for time in range(ENCODING_TIME):\n",
    "    world_m = world_m + delta\n",
    "    #world_m = beta_param*world_m + delta    #not used  change past\n",
    "    world = np.random.normal(world_m, world_var)\n",
    "    sample=random.randint(0,1)\n",
    "    delta=np.random.normal(world_m[sample], world_var)\n",
    "    if(m<N_ITEMS):\n",
    "        if(time==schedule[m,0]):\n",
    "            encoding[m,0:5] =  world\n",
    "            encoding[m,5]=m             #encoding world_context and item\n",
    "            m =  m + 1"
   ]
  },
  {
   "cell_type": "markdown",
   "metadata": {},
   "source": [
    "#### Simulating retrieval using SAM, but with a bijective image-item mapping"
   ]
  },
  {
   "cell_type": "code",
   "execution_count": 7,
   "metadata": {},
   "outputs": [],
   "source": [
    "out=np.zeros(TEST_TIME)\n",
    "while(time<ENCODING_TIME+TEST_TIME):\n",
    "    world_m = world_m + delta\n",
    "    #world_m = beta_param*world_m + delta\n",
    "    world = np.random.normal(world_m, world_var)\n",
    "    soa=np.zeros(N_ITEMS)\n",
    "    temp=np.zeros(N_WORLD_FEATURES+1)\n",
    "    for m in range(N_ITEMS):\n",
    "        temp[0:5] =  world\n",
    "        temp[5]=m\n",
    "        soa[m]=np.dot(encoding[m],temp.T)     \n",
    "    soa=soa/np.linalg.norm(soa)\n",
    "    out[time-ENCODING_TIME] = np.where(drawFromADist(soa)>0)[0]\n",
    "    time = time + 1"
   ]
  },
  {
   "cell_type": "code",
   "execution_count": 8,
   "metadata": {},
   "outputs": [
    {
     "data": {
      "text/plain": [
       "(9, 9.803921568627452)"
      ]
     },
     "execution_count": 8,
     "metadata": {},
     "output_type": "execute_result"
    }
   ],
   "source": [
    "success=len(np.unique(out))\n",
    "success,schedule_load"
   ]
  },
  {
   "cell_type": "markdown",
   "metadata": {},
   "source": [
    "### Over multiple trial:"
   ]
  },
  {
   "cell_type": "code",
   "execution_count": 9,
   "metadata": {},
   "outputs": [],
   "source": [
    "def model():\n",
    "    N_WORLD_FEATURES = 5\n",
    "    N_ITEMS = 10\n",
    "    ENCODING_TIME = 500\n",
    "    TEST_TIME = 20\n",
    "    schedule =np.column_stack((np.sort(np.round(np.random.random(N_ITEMS)*500)),np.arange(N_ITEMS)))\n",
    "    schedule_load = ENCODING_TIME/np.median(np.diff(schedule[:,0]))\n",
    "    encoding = np.zeros((N_ITEMS,N_WORLD_FEATURES+1))\n",
    "    world_m = np.array([1 ,2 ,1, 2, 3])          \n",
    "    world_var = 1\n",
    "    delta = 0.05                   \n",
    "    beta_param = 0.001      #context drift parameter, ct=beta*ct + c_t-1      \n",
    "    m = 0\n",
    "    for time in range(ENCODING_TIME):\n",
    "        world_m = world_m + delta\n",
    "        #world_m = beta_param*world_m + delta\n",
    "        world = np.random.normal(world_m, world_var)\n",
    "        sample=random.randint(0,1)\n",
    "        delta=np.random.normal(world_m[sample], world_var)\n",
    "        if(m<N_ITEMS):\n",
    "            if(time==schedule[m,0]):\n",
    "                encoding[m,0:5] =  world\n",
    "                encoding[m,5]=m     #encoding world_context and item\n",
    "                m =  m + 1\n",
    "            \n",
    "    out=np.zeros(TEST_TIME)\n",
    "    while(time<ENCODING_TIME+TEST_TIME):\n",
    "        world_m = world_m + delta\n",
    "        #world_m = beta_param*world_m + delta\n",
    "        world = np.random.normal(world_m, world_var)\n",
    "        soa=np.zeros(N_ITEMS)\n",
    "        temp=np.zeros(N_WORLD_FEATURES+1)\n",
    "        for m in range(N_ITEMS):\n",
    "            temp[0:5] =  world\n",
    "            temp[5]=m\n",
    "            soa[m]=np.dot(encoding[m],temp.T)     \n",
    "        soa=soa/np.linalg.norm(soa)\n",
    "        out[time-ENCODING_TIME] = np.where(drawFromADist(soa)>0)[0]\n",
    "        time = time + 1\n",
    "    return len(np.unique(out)),schedule_load"
   ]
  },
  {
   "cell_type": "markdown",
   "metadata": {},
   "source": [
    "#### Running over multiple trial"
   ]
  },
  {
   "cell_type": "code",
   "execution_count": 10,
   "metadata": {},
   "outputs": [
    {
     "data": {
      "image/png": "[encoded data removed]",
      "text/plain": [
       "<Figure size 432x288 with 1 Axes>"
      ]
     },
     "metadata": {
      "needs_background": "light"
     },
     "output_type": "display_data"
    }
   ],
   "source": [
    "x=list()\n",
    "for i in range(100):\n",
    "    x.append(model())\n",
    "x=np.array(x)\n",
    "plt.plot(np.arange(100),x[:,0],color='orange')\n",
    "plt.ylabel('Success')\n",
    "plt.xlabel('No of iteration')\n",
    "plt.title('Mean Success is '+str(np.mean(x[:,0])))\n",
    "plt.savefig('Using_Random_schedule', bbox='tight')\n",
    "plt.show()"
   ]
  }
 ],
 "metadata": {
  "kernelspec": {
   "display_name": "Python 3",
   "language": "python",
   "name": "python3"
  },
  "language_info": {
   "codemirror_mode": {
    "name": "ipython",
    "version": 3
   },
   "file_extension": ".py",
   "mimetype": "text/x-python",
   "name": "python",
   "nbconvert_exporter": "python",
   "pygments_lexer": "ipython3",
   "version": "3.7.1"
  }
 },
 "nbformat": 4,
 "nbformat_minor": 2
}
