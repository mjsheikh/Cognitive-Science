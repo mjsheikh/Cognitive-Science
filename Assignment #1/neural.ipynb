{
 "cells": [
  {
   "cell_type": "code",
   "execution_count": 1,
   "metadata": {},
   "outputs": [],
   "source": [
    "import numpy as np\n",
    "import pandas as pd\n",
    "X=np.array([[0, 0, 0],[0, 0, 1],[0, 1, 0],[0, 1, 1],[1, 0, 0],[1, 0, 1],[1, 1, 0],[1, 1, 1]])"
   ]
  },
  {
   "cell_type": "code",
   "execution_count": 2,
   "metadata": {},
   "outputs": [],
   "source": [
    "#<--------------different input functions as truth table----------------------------->\n",
    "y1=np.array([[0],[0],[0],[0],[1],[1],[1],[1]])\n",
    "y2=np.array([[0],[1],[0],[1],[1],[0],[1],[1]])\n",
    "y3=np.array([[1],[1],[0],[0],[1],[0],[1],[1]])\n",
    "y4=np.array([[0],[1],[1],[0],[1],[0],[0],[1]])\n",
    "y5=np.array([[0],[1],[0],[1],[0],[1],[0],[1]])\n",
    "functions=np.array([y1,y2,y3,y4,y5])\n"
   ]
  },
  {
   "cell_type": "code",
   "execution_count": 3,
   "metadata": {},
   "outputs": [],
   "source": [
    "def sigmoid(x):\n",
    "    return 1/(1+np.exp(-x))\n",
    "def sigder(x):\n",
    "    return sigmoid(x)*(1-sigmoid(x))"
   ]
  },
  {
   "cell_type": "code",
   "execution_count": 4,
   "metadata": {},
   "outputs": [],
   "source": [
    "def my_neural(X,y):\n",
    "    epochs=1500\n",
    "    learn_rate=0.9\n",
    "    w1=np.random.rand(3,10)\n",
    "    w2=np.random.rand(10,1)\n",
    "    b1=0\n",
    "    b2=0\n",
    "    for i in range(epochs):\n",
    "        h1=sigmoid(np.dot(X,w1)+b1)\n",
    "        y_pred=sigmoid(np.dot(h1,w2)+b2)\n",
    "        dw2=np.dot(h1.T,2*(y_pred-y)*y_pred*(1-y_pred))\n",
    "        dw1=np.dot(X.T,np.dot(2*(y_pred-y)*y_pred*(1-y_pred),w2.T)*h1*(1-h1))\n",
    "        w2-=learn_rate*dw2\n",
    "        w1-=learn_rate*dw1\n",
    "        if(i%100==0):\n",
    "            h1=sigmoid(np.dot(X,w1))\n",
    "            y_pred=sigmoid(np.dot(h1,w2))\n",
    "            print (\"Traning Loss after epoch \"+str(i)+\"\\n\"+str (np.mean(np.square(y - y_pred))))\n",
    "    return y_pred"
   ]
  },
  {
   "cell_type": "markdown",
   "metadata": {},
   "source": [
    "## 1) for first function"
   ]
  },
  {
   "cell_type": "code",
   "execution_count": 5,
   "metadata": {},
   "outputs": [
    {
     "name": "stdout",
     "output_type": "stream",
     "text": [
      "Traning Loss after epoch 0\n",
      "0.4281337233661932\n",
      "Traning Loss after epoch 100\n",
      "0.0016753584688785584\n",
      "Traning Loss after epoch 200\n",
      "0.0006492773408416486\n",
      "Traning Loss after epoch 300\n",
      "0.0003914188983063626\n",
      "Traning Loss after epoch 400\n",
      "0.0002771322608419022\n",
      "Traning Loss after epoch 500\n",
      "0.0002133053281208785\n",
      "Traning Loss after epoch 600\n",
      "0.00017279380295711\n",
      "Traning Loss after epoch 700\n",
      "0.00014489302188282606\n",
      "Traning Loss after epoch 800\n",
      "0.00012455552233481867\n",
      "Traning Loss after epoch 900\n",
      "0.00010909897765206232\n",
      "Traning Loss after epoch 1000\n",
      "9.696971731139495e-05\n",
      "Traning Loss after epoch 1100\n",
      "8.720720085274923e-05\n",
      "Traning Loss after epoch 1200\n",
      "7.918643010376346e-05\n",
      "Traning Loss after epoch 1300\n",
      "7.248362135287901e-05\n",
      "Traning Loss after epoch 1400\n",
      "6.680149970688848e-05\n",
      "-------------------------------------------\n",
      "Predicted output after :\n",
      " [[0.01414552]\n",
      " [0.00565865]\n",
      " [0.00559778]\n",
      " [0.00273155]\n",
      " [0.99218802]\n",
      " [0.99283831]\n",
      " [0.99272459]\n",
      " [0.99225605]]\n",
      "Real output :\n",
      " [[0]\n",
      " [0]\n",
      " [0]\n",
      " [0]\n",
      " [1]\n",
      " [1]\n",
      " [1]\n",
      " [1]]\n"
     ]
    }
   ],
   "source": [
    "ypred=my_neural(X,y1)\n",
    "print(\"-------------------------------------------\")\n",
    "print(\"Predicted output after :\\n\",ypred)\n",
    "print(\"Real output :\\n\",y1)"
   ]
  },
  {
   "cell_type": "markdown",
   "metadata": {},
   "source": [
    "## for second function"
   ]
  },
  {
   "cell_type": "code",
   "execution_count": 6,
   "metadata": {},
   "outputs": [
    {
     "name": "stdout",
     "output_type": "stream",
     "text": [
      "Traning Loss after epoch 0\n",
      "0.3256371996544555\n",
      "Traning Loss after epoch 100\n",
      "0.10770807041604587\n",
      "Traning Loss after epoch 200\n",
      "0.043127692450495775\n",
      "Traning Loss after epoch 300\n",
      "0.010548520721721669\n",
      "Traning Loss after epoch 400\n",
      "0.004006968236644973\n",
      "Traning Loss after epoch 500\n",
      "0.002261824662577073\n",
      "Traning Loss after epoch 600\n",
      "0.0015263613591049502\n",
      "Traning Loss after epoch 700\n",
      "0.0011342262147635885\n",
      "Traning Loss after epoch 800\n",
      "0.0008945009822538522\n",
      "Traning Loss after epoch 900\n",
      "0.0007343426338316426\n",
      "Traning Loss after epoch 1000\n",
      "0.0006204872891881188\n",
      "Traning Loss after epoch 1100\n",
      "0.0005357557826869108\n",
      "Traning Loss after epoch 1200\n",
      "0.0004704440175914937\n",
      "Traning Loss after epoch 1300\n",
      "0.0004186833054751621\n",
      "Traning Loss after epoch 1400\n",
      "0.0003767286644728592\n",
      "-------------------------------------------\n",
      "Predicted output after :\n",
      " [[0.00454538]\n",
      " [0.9758469 ]\n",
      " [0.00884919]\n",
      " [0.99893698]\n",
      " [0.97241508]\n",
      " [0.03450809]\n",
      " [0.9962044 ]\n",
      " [0.99040166]]\n",
      "Real output :\n",
      " [[0]\n",
      " [1]\n",
      " [0]\n",
      " [1]\n",
      " [1]\n",
      " [0]\n",
      " [1]\n",
      " [1]]\n"
     ]
    }
   ],
   "source": [
    "ypred=my_neural(X,y2)\n",
    "print(\"-------------------------------------------\")\n",
    "print(\"Predicted output after :\\n\",ypred)\n",
    "print(\"Real output :\\n\",y2)"
   ]
  },
  {
   "cell_type": "markdown",
   "metadata": {},
   "source": [
    "## for third function"
   ]
  },
  {
   "cell_type": "code",
   "execution_count": 7,
   "metadata": {},
   "outputs": [
    {
     "name": "stdout",
     "output_type": "stream",
     "text": [
      "Traning Loss after epoch 0\n",
      "0.2924826755129828\n",
      "Traning Loss after epoch 100\n",
      "0.12789710103146998\n",
      "Traning Loss after epoch 200\n",
      "0.1258650347790574\n",
      "Traning Loss after epoch 300\n",
      "0.12548108676146996\n",
      "Traning Loss after epoch 400\n",
      "0.12532715242127127\n",
      "Traning Loss after epoch 500\n",
      "0.12524567164518624\n",
      "Traning Loss after epoch 600\n",
      "0.12519568872570075\n",
      "Traning Loss after epoch 700\n",
      "0.12516207737795562\n",
      "Traning Loss after epoch 800\n",
      "0.12513800984029633\n",
      "Traning Loss after epoch 900\n",
      "0.12511997053788773\n",
      "Traning Loss after epoch 1000\n",
      "0.12510597173208066\n",
      "Traning Loss after epoch 1100\n",
      "0.1250948078502448\n",
      "Traning Loss after epoch 1200\n",
      "0.12508570664013602\n",
      "Traning Loss after epoch 1300\n",
      "0.12507815127014307\n",
      "Traning Loss after epoch 1400\n",
      "0.12507178319890172\n",
      "-------------------------------------------\n",
      "Predicted output after :\n",
      " [[0.98775245]\n",
      " [0.99226299]\n",
      " [0.01066436]\n",
      " [0.01198487]\n",
      " [0.99999665]\n",
      " [0.99999301]\n",
      " [0.99289076]\n",
      " [0.9947279 ]]\n",
      "Real output :\n",
      " [[1]\n",
      " [1]\n",
      " [0]\n",
      " [0]\n",
      " [1]\n",
      " [0]\n",
      " [1]\n",
      " [1]]\n"
     ]
    }
   ],
   "source": [
    "ypred=my_neural(X,y3)\n",
    "print(\"-------------------------------------------\")\n",
    "print(\"Predicted output after :\\n\",ypred)\n",
    "print(\"Real output :\\n\",y3)"
   ]
  },
  {
   "cell_type": "markdown",
   "metadata": {},
   "source": [
    "## for fourth function"
   ]
  },
  {
   "cell_type": "code",
   "execution_count": 8,
   "metadata": {},
   "outputs": [
    {
     "name": "stdout",
     "output_type": "stream",
     "text": [
      "Traning Loss after epoch 0\n",
      "0.4464557924404719\n",
      "Traning Loss after epoch 100\n",
      "0.24995304088772274\n",
      "Traning Loss after epoch 200\n",
      "0.2496248971140987\n",
      "Traning Loss after epoch 300\n",
      "0.24354844322529554\n",
      "Traning Loss after epoch 400\n",
      "0.06102658563726524\n",
      "Traning Loss after epoch 500\n",
      "0.010485137569974622\n",
      "Traning Loss after epoch 600\n",
      "0.004634528899011295\n",
      "Traning Loss after epoch 700\n",
      "0.002730088946273477\n",
      "Traning Loss after epoch 800\n",
      "0.0018527537938590275\n",
      "Traning Loss after epoch 900\n",
      "0.00136911371481539\n",
      "Traning Loss after epoch 1000\n",
      "0.0010705107325824819\n",
      "Traning Loss after epoch 1100\n",
      "0.0008710696809415107\n",
      "Traning Loss after epoch 1200\n",
      "0.0007299513293266116\n",
      "Traning Loss after epoch 1300\n",
      "0.0006256114082819056\n",
      "Traning Loss after epoch 1400\n",
      "0.0005457540350066184\n",
      "-------------------------------------------\n",
      "Predicted output after :\n",
      " [[0.03577978]\n",
      " [0.97372707]\n",
      " [0.97845389]\n",
      " [0.01250938]\n",
      " [0.9720938 ]\n",
      " [0.01761604]\n",
      " [0.01366148]\n",
      " [0.99767522]]\n",
      "Real output :\n",
      " [[0]\n",
      " [1]\n",
      " [1]\n",
      " [0]\n",
      " [1]\n",
      " [0]\n",
      " [0]\n",
      " [1]]\n"
     ]
    }
   ],
   "source": [
    "ypred=my_neural(X,y4)\n",
    "print(\"-------------------------------------------\")\n",
    "print(\"Predicted output after :\\n\",ypred)\n",
    "print(\"Real output :\\n\",y4)"
   ]
  },
  {
   "cell_type": "markdown",
   "metadata": {},
   "source": [
    "## for fifth function"
   ]
  },
  {
   "cell_type": "code",
   "execution_count": 9,
   "metadata": {},
   "outputs": [
    {
     "name": "stdout",
     "output_type": "stream",
     "text": [
      "Traning Loss after epoch 0\n",
      "0.46992639049629475\n",
      "Traning Loss after epoch 100\n",
      "0.0013964376282825197\n",
      "Traning Loss after epoch 200\n",
      "0.0005845021629309574\n",
      "Traning Loss after epoch 300\n",
      "0.0003616589851625418\n",
      "Traning Loss after epoch 400\n",
      "0.00025960899877424564\n",
      "Traning Loss after epoch 500\n",
      "0.000201578656387291\n",
      "Traning Loss after epoch 600\n",
      "0.00016431114494593784\n",
      "Traning Loss after epoch 700\n",
      "0.00013842815520015357\n",
      "Traning Loss after epoch 800\n",
      "0.00011944079369098451\n",
      "Traning Loss after epoch 900\n",
      "0.00010493727627986456\n",
      "Traning Loss after epoch 1000\n",
      "9.350878425904025e-05\n",
      "Traning Loss after epoch 1100\n",
      "8.427842016757843e-05\n",
      "Traning Loss after epoch 1200\n",
      "7.667242470220686e-05\n",
      "Traning Loss after epoch 1300\n",
      "7.029993016173988e-05\n",
      "Traning Loss after epoch 1400\n",
      "6.488564934244834e-05\n",
      "-------------------------------------------\n",
      "Predicted output after :\n",
      " [[0.01405887]\n",
      " [0.99318044]\n",
      " [0.00576967]\n",
      " [0.99314463]\n",
      " [0.00588095]\n",
      " [0.99287411]\n",
      " [0.00275896]\n",
      " [0.99193054]]\n",
      "Real output :\n",
      " [[0]\n",
      " [1]\n",
      " [0]\n",
      " [1]\n",
      " [0]\n",
      " [1]\n",
      " [0]\n",
      " [1]]\n"
     ]
    }
   ],
   "source": [
    "ypred=my_neural(X,y5)\n",
    "print(\"-------------------------------------------\")\n",
    "print(\"Predicted output after :\\n\",ypred)\n",
    "print(\"Real output :\\n\",y5)"
   ]
  }
 ],
 "metadata": {
  "kernelspec": {
   "display_name": "Python 3",
   "language": "python",
   "name": "python3"
  },
  "language_info": {
   "codemirror_mode": {
    "name": "ipython",
    "version": 3
   },
   "file_extension": ".py",
   "mimetype": "text/x-python",
   "name": "python",
   "nbconvert_exporter": "python",
   "pygments_lexer": "ipython3",
   "version": "3.7.1"
  }
 },
 "nbformat": 4,
 "nbformat_minor": 2
}
